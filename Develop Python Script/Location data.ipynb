{
 "cells": [
  {
   "cell_type": "code",
   "execution_count": 8,
   "metadata": {},
   "outputs": [
    {
     "ename": "ModuleNotFoundError",
     "evalue": "No module named 'wiotp'",
     "output_type": "error",
     "traceback": [
      "\u001b[1;31m---------------------------------------------------------------------------\u001b[0m",
      "\u001b[1;31mModuleNotFoundError\u001b[0m                       Traceback (most recent call last)",
      "Cell \u001b[1;32mIn [8], line 1\u001b[0m\n\u001b[1;32m----> 1\u001b[0m \u001b[39mimport\u001b[39;00m \u001b[39mwiotp\u001b[39;00m\u001b[39m.\u001b[39;00m\u001b[39msdk\u001b[39;00m\u001b[39m.\u001b[39;00m\u001b[39mdevice\u001b[39;00m \n\u001b[0;32m      2\u001b[0m \u001b[39mimport\u001b[39;00m \u001b[39mtime\u001b[39;00m\n\u001b[0;32m      3\u001b[0m \u001b[39mimport\u001b[39;00m \u001b[39mrandom\u001b[39;00m \n",
      "\u001b[1;31mModuleNotFoundError\u001b[0m: No module named 'wiotp'"
     ]
    }
   ],
   "source": [
    "import wiotp.sdk.device \n",
    "import time\n",
    "import random \n",
    "myConfig={ \n",
    "\"identity\": { \n",
    "       \"orgId\": \"2oab6l\",\n",
    "       \"typeId\": \"GPS_Tracking\",\n",
    "       \"deviceId\":\"12345\"\n",
    "       },\n",
    " \"auth\": {\n",
    "    \"token\": \"12345678\"\n",
    " }\n",
    " }\n",
    "def myCommandCallback (cmd):\n",
    "    print (\"Message received from IBM IoT Platform: %s\" % cmd.data['command']) \n",
    "    m=cmd.data['command']\n",
    "client= wiotp.sdk.device.DeviceClient (config=myConfig, \n",
    "logHandlers=None)\n",
    "client.connect() \n",
    "\n",
    "def pub (data):\n",
    "    client.publishEvent (eventId=\"status\", msgFormat=\"json\", \n",
    "    data=myData, qos=0) \n",
    "    print(\"Published data Successfully: %s\", myData)\n",
    "while True:\n",
    "  myData={'name': 'Train1', 'lat': 17.6387448, 'lon': 78.4754336}\n",
    "  pub (myData) \n",
    "  time.sleep (3)\n",
    "  #myData('name': 'Train2', 'lat': 17.6387448, 'lon': 78.4754336)\n",
    "  #pub (myData) \n",
    "  #time.sleep (3)\n",
    "  myData={'name': 'Train1', 'lat': 17.6341908, 'lon': 78.4744722}\n",
    "  pub (myData) \n",
    "  time.sleep(3)\n",
    "  myData={'name': 'Trainl', 'lat': 17.6340889, 'lon': 78.4745052 }\n",
    "  pub (myData)\n",
    "  time.sleep(3)\n",
    "  myData={'name': 'Trainl', 'lat': 17.6248626, 'lon': 78.4720259}\n",
    "  pub (myData)\n",
    "  time.sleep (3)\n",
    "  myData={'name': 'Trainl', 'lat': 17.6188577, 'lon': 78.4698726}\n",
    "  pub (myData) \n",
    "  time.sleep (3)\n",
    "  myData={'name': 'Train1', 'lat': 17.6132382, 'lon': 78.4707318}\n",
    "  pub (myData) \n",
    "  time.sleep (3)\n",
    "  client.commandCallback = myCommandCallback \n",
    "client.disconnect()"
   ]
  }
 ],
 "metadata": {
  "kernelspec": {
   "display_name": "Python 3.10.4 64-bit",
   "language": "python",
   "name": "python3"
  },
  "language_info": {
   "codemirror_mode": {
    "name": "ipython",
    "version": 3
   },
   "file_extension": ".py",
   "mimetype": "text/x-python",
   "name": "python",
   "nbconvert_exporter": "python",
   "pygments_lexer": "ipython3",
   "version": "3.10.4"
  },
  "orig_nbformat": 4,
  "vscode": {
   "interpreter": {
    "hash": "26de051ba29f2982a8de78e945f0abaf191376122a1563185a90213a26c5da77"
   }
  }
 },
 "nbformat": 4,
 "nbformat_minor": 2
}
